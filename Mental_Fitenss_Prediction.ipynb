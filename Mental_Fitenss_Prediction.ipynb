{
 "cells": [
  {
   "cell_type": "markdown",
   "id": "5e8125ac",
   "metadata": {},
   "source": [
    "## MENTAL FITNESS RATE PREDICTION"
   ]
  },
  {
   "cell_type": "markdown",
   "id": "252c4231",
   "metadata": {},
   "source": [
    "### IMPORTING LIBRARIES"
   ]
  },
  {
   "cell_type": "code",
   "execution_count": 1,
   "id": "54e56516",
   "metadata": {},
   "outputs": [],
   "source": [
    "import pandas as pd\n",
    "import numpy as np\n",
    "import matplotlib.pyplot as plt\n",
    "import seaborn as sns"
   ]
  },
  {
   "cell_type": "markdown",
   "id": "7705c970",
   "metadata": {},
   "source": [
    "### LOADING DATA"
   ]
  },
  {
   "cell_type": "code",
   "execution_count": 2,
   "id": "2605bfe7",
   "metadata": {},
   "outputs": [],
   "source": [
    "df1 = pd.read_csv(\"Dataset/prevalence-by-mental-and-substance-use-disorder.csv\")\n",
    "df2 = pd.read_csv('Dataset/mental-and-substance-use-as-share-of-disease (1).csv')"
   ]
  },
  {
   "cell_type": "code",
   "execution_count": 3,
   "id": "06cc8bc0",
   "metadata": {},
   "outputs": [],
   "source": [
    "df1 = pd.read_csv(\"Dataset/prevalence-by-mental-and-substance-use-disorder.csv\")\n",
    "df2 = pd.read_csv('Dataset/mental-and-substance-use-as-share-of-disease (1).csv')"
   ]
  },
  {
   "cell_type": "code",
   "execution_count": 4,
   "id": "c91c69f0",
   "metadata": {},
   "outputs": [
    {
     "data": {
      "text/html": [
       "<div>\n",
       "<style scoped>\n",
       "    .dataframe tbody tr th:only-of-type {\n",
       "        vertical-align: middle;\n",
       "    }\n",
       "\n",
       "    .dataframe tbody tr th {\n",
       "        vertical-align: top;\n",
       "    }\n",
       "\n",
       "    .dataframe thead th {\n",
       "        text-align: right;\n",
       "    }\n",
       "</style>\n",
       "<table border=\"1\" class=\"dataframe\">\n",
       "  <thead>\n",
       "    <tr style=\"text-align: right;\">\n",
       "      <th></th>\n",
       "      <th>Entity</th>\n",
       "      <th>Code</th>\n",
       "      <th>Year</th>\n",
       "      <th>DALYs (Disability-Adjusted Life Years) - Mental disorders - Sex: Both - Age: All Ages (Percent)</th>\n",
       "    </tr>\n",
       "  </thead>\n",
       "  <tbody>\n",
       "    <tr>\n",
       "      <th>0</th>\n",
       "      <td>Afghanistan</td>\n",
       "      <td>AFG</td>\n",
       "      <td>1990</td>\n",
       "      <td>1.696670</td>\n",
       "    </tr>\n",
       "    <tr>\n",
       "      <th>1</th>\n",
       "      <td>Afghanistan</td>\n",
       "      <td>AFG</td>\n",
       "      <td>1991</td>\n",
       "      <td>1.734281</td>\n",
       "    </tr>\n",
       "    <tr>\n",
       "      <th>2</th>\n",
       "      <td>Afghanistan</td>\n",
       "      <td>AFG</td>\n",
       "      <td>1992</td>\n",
       "      <td>1.791189</td>\n",
       "    </tr>\n",
       "    <tr>\n",
       "      <th>3</th>\n",
       "      <td>Afghanistan</td>\n",
       "      <td>AFG</td>\n",
       "      <td>1993</td>\n",
       "      <td>1.776779</td>\n",
       "    </tr>\n",
       "    <tr>\n",
       "      <th>4</th>\n",
       "      <td>Afghanistan</td>\n",
       "      <td>AFG</td>\n",
       "      <td>1994</td>\n",
       "      <td>1.712986</td>\n",
       "    </tr>\n",
       "  </tbody>\n",
       "</table>\n",
       "</div>"
      ],
      "text/plain": [
       "        Entity Code  Year   \n",
       "0  Afghanistan  AFG  1990  \\\n",
       "1  Afghanistan  AFG  1991   \n",
       "2  Afghanistan  AFG  1992   \n",
       "3  Afghanistan  AFG  1993   \n",
       "4  Afghanistan  AFG  1994   \n",
       "\n",
       "   DALYs (Disability-Adjusted Life Years) - Mental disorders - Sex: Both - Age: All Ages (Percent)  \n",
       "0                                           1.696670                                                \n",
       "1                                           1.734281                                                \n",
       "2                                           1.791189                                                \n",
       "3                                           1.776779                                                \n",
       "4                                           1.712986                                                "
      ]
     },
     "execution_count": 4,
     "metadata": {},
     "output_type": "execute_result"
    }
   ],
   "source": [
    "df2.head()"
   ]
  },
  {
   "cell_type": "markdown",
   "id": "ee8a7bea",
   "metadata": {},
   "source": [
    "### DATA PREPROCESSING"
   ]
  },
  {
   "cell_type": "code",
   "execution_count": 5,
   "id": "19d09515",
   "metadata": {},
   "outputs": [
    {
     "name": "stdout",
     "output_type": "stream",
     "text": [
      "<class 'pandas.core.frame.DataFrame'>\n",
      "RangeIndex: 6840 entries, 0 to 6839\n",
      "Data columns (total 10 columns):\n",
      " #   Column                                                                            Non-Null Count  Dtype  \n",
      "---  ------                                                                            --------------  -----  \n",
      " 0   Entity                                                                            6840 non-null   object \n",
      " 1   Code                                                                              6150 non-null   object \n",
      " 2   Year                                                                              6840 non-null   int64  \n",
      " 3   Prevalence - Schizophrenia - Sex: Both - Age: Age-standardized (Percent)          6840 non-null   float64\n",
      " 4   Prevalence - Bipolar disorder - Sex: Both - Age: Age-standardized (Percent)       6840 non-null   float64\n",
      " 5   Prevalence - Eating disorders - Sex: Both - Age: Age-standardized (Percent)       6840 non-null   float64\n",
      " 6   Prevalence - Anxiety disorders - Sex: Both - Age: Age-standardized (Percent)      6840 non-null   float64\n",
      " 7   Prevalence - Drug use disorders - Sex: Both - Age: Age-standardized (Percent)     6840 non-null   float64\n",
      " 8   Prevalence - Depressive disorders - Sex: Both - Age: Age-standardized (Percent)   6840 non-null   float64\n",
      " 9   Prevalence - Alcohol use disorders - Sex: Both - Age: Age-standardized (Percent)  6840 non-null   float64\n",
      "dtypes: float64(7), int64(1), object(2)\n",
      "memory usage: 534.5+ KB\n"
     ]
    }
   ],
   "source": [
    "df1.info()"
   ]
  },
  {
   "cell_type": "code",
   "execution_count": 6,
   "id": "0c0dc660",
   "metadata": {},
   "outputs": [
    {
     "name": "stdout",
     "output_type": "stream",
     "text": [
      "<class 'pandas.core.frame.DataFrame'>\n",
      "RangeIndex: 6840 entries, 0 to 6839\n",
      "Data columns (total 4 columns):\n",
      " #   Column                                                                                           Non-Null Count  Dtype  \n",
      "---  ------                                                                                           --------------  -----  \n",
      " 0   Entity                                                                                           6840 non-null   object \n",
      " 1   Code                                                                                             6150 non-null   object \n",
      " 2   Year                                                                                             6840 non-null   int64  \n",
      " 3   DALYs (Disability-Adjusted Life Years) - Mental disorders - Sex: Both - Age: All Ages (Percent)  6840 non-null   float64\n",
      "dtypes: float64(1), int64(1), object(2)\n",
      "memory usage: 213.9+ KB\n"
     ]
    }
   ],
   "source": [
    "df2.info()"
   ]
  },
  {
   "cell_type": "code",
   "execution_count": 7,
   "id": "8554fd12",
   "metadata": {},
   "outputs": [
    {
     "data": {
      "text/plain": [
       "Entity                                                                                0\n",
       "Code                                                                                690\n",
       "Year                                                                                  0\n",
       "Prevalence - Schizophrenia - Sex: Both - Age: Age-standardized (Percent)              0\n",
       "Prevalence - Bipolar disorder - Sex: Both - Age: Age-standardized (Percent)           0\n",
       "Prevalence - Eating disorders - Sex: Both - Age: Age-standardized (Percent)           0\n",
       "Prevalence - Anxiety disorders - Sex: Both - Age: Age-standardized (Percent)          0\n",
       "Prevalence - Drug use disorders - Sex: Both - Age: Age-standardized (Percent)         0\n",
       "Prevalence - Depressive disorders - Sex: Both - Age: Age-standardized (Percent)       0\n",
       "Prevalence - Alcohol use disorders - Sex: Both - Age: Age-standardized (Percent)      0\n",
       "dtype: int64"
      ]
     },
     "execution_count": 7,
     "metadata": {},
     "output_type": "execute_result"
    }
   ],
   "source": [
    "df1.isnull().sum()"
   ]
  },
  {
   "cell_type": "code",
   "execution_count": 8,
   "id": "6b892805",
   "metadata": {},
   "outputs": [
    {
     "data": {
      "text/plain": [
       "Entity                                                                                               0\n",
       "Code                                                                                               690\n",
       "Year                                                                                                 0\n",
       "DALYs (Disability-Adjusted Life Years) - Mental disorders - Sex: Both - Age: All Ages (Percent)      0\n",
       "dtype: int64"
      ]
     },
     "execution_count": 8,
     "metadata": {},
     "output_type": "execute_result"
    }
   ],
   "source": [
    "df2.isnull().sum()"
   ]
  },
  {
   "cell_type": "code",
   "execution_count": 9,
   "id": "b3ebd633",
   "metadata": {},
   "outputs": [
    {
     "data": {
      "text/plain": [
       "((6840, 10), (6840, 4))"
      ]
     },
     "execution_count": 9,
     "metadata": {},
     "output_type": "execute_result"
    }
   ],
   "source": [
    "df1.shape, df2.shape"
   ]
  },
  {
   "cell_type": "code",
   "execution_count": 10,
   "id": "b5938a3a",
   "metadata": {},
   "outputs": [
    {
     "data": {
      "text/plain": [
       "0"
      ]
     },
     "execution_count": 10,
     "metadata": {},
     "output_type": "execute_result"
    }
   ],
   "source": [
    "df1.duplicated().sum()"
   ]
  },
  {
   "cell_type": "code",
   "execution_count": 11,
   "id": "638c1c70",
   "metadata": {},
   "outputs": [
    {
     "data": {
      "text/plain": [
       "0"
      ]
     },
     "execution_count": 11,
     "metadata": {},
     "output_type": "execute_result"
    }
   ],
   "source": [
    "df2.duplicated().sum()"
   ]
  },
  {
   "cell_type": "code",
   "execution_count": 12,
   "id": "ea7bdf52",
   "metadata": {},
   "outputs": [],
   "source": [
    "df1.dropna(inplace=True)"
   ]
  },
  {
   "cell_type": "code",
   "execution_count": 13,
   "id": "2464bd9d",
   "metadata": {},
   "outputs": [],
   "source": [
    "df2.dropna(inplace=True)"
   ]
  },
  {
   "cell_type": "code",
   "execution_count": 14,
   "id": "d22577a9",
   "metadata": {},
   "outputs": [
    {
     "data": {
      "text/plain": [
       "((6150, 10), (6150, 4))"
      ]
     },
     "execution_count": 14,
     "metadata": {},
     "output_type": "execute_result"
    }
   ],
   "source": [
    "df1.shape, df2.shape"
   ]
  },
  {
   "cell_type": "code",
   "execution_count": 15,
   "id": "6a176fad",
   "metadata": {},
   "outputs": [],
   "source": [
    "df1['Schizophrenia(%)'] = df1['Prevalence - Schizophrenia - Sex: Both - Age: Age-standardized (Percent)']\n",
    "df1['Bipolar disorder(%)'] = df1['Prevalence - Bipolar disorder - Sex: Both - Age: Age-standardized (Percent)']\n",
    "df1['Eating disorders(%)'] = df1['Prevalence - Eating disorders - Sex: Both - Age: Age-standardized (Percent)']\n",
    "df1['Anxiety disorders(%)'] = df1['Prevalence - Anxiety disorders - Sex: Both - Age: Age-standardized (Percent)']\n",
    "df1['Drug use disorders(%)'] = df1['Prevalence - Drug use disorders - Sex: Both - Age: Age-standardized (Percent)']\n",
    "df1['Depressive disorders(%)'] = df1['Prevalence - Depressive disorders - Sex: Both - Age: Age-standardized (Percent)']\n",
    "df1['Alcohol use disorders(%)'] = df1['Prevalence - Alcohol use disorders - Sex: Both - Age: Age-standardized (Percent)']"
   ]
  },
  {
   "cell_type": "code",
   "execution_count": 16,
   "id": "01f58a37",
   "metadata": {},
   "outputs": [],
   "source": [
    "df1_copy = df1[['Entity','Code','Year','Schizophrenia(%)','Bipolar disorder(%)','Eating disorders(%)',\n",
    "               'Anxiety disorders(%)','Drug use disorders(%)','Depressive disorders(%)','Alcohol use disorders(%)']]"
   ]
  },
  {
   "cell_type": "code",
   "execution_count": 17,
   "id": "2a83ffd2",
   "metadata": {},
   "outputs": [
    {
     "data": {
      "text/html": [
       "<div>\n",
       "<style scoped>\n",
       "    .dataframe tbody tr th:only-of-type {\n",
       "        vertical-align: middle;\n",
       "    }\n",
       "\n",
       "    .dataframe tbody tr th {\n",
       "        vertical-align: top;\n",
       "    }\n",
       "\n",
       "    .dataframe thead th {\n",
       "        text-align: right;\n",
       "    }\n",
       "</style>\n",
       "<table border=\"1\" class=\"dataframe\">\n",
       "  <thead>\n",
       "    <tr style=\"text-align: right;\">\n",
       "      <th></th>\n",
       "      <th>Entity</th>\n",
       "      <th>Code</th>\n",
       "      <th>Year</th>\n",
       "      <th>Schizophrenia(%)</th>\n",
       "      <th>Bipolar disorder(%)</th>\n",
       "      <th>Eating disorders(%)</th>\n",
       "      <th>Anxiety disorders(%)</th>\n",
       "      <th>Drug use disorders(%)</th>\n",
       "      <th>Depressive disorders(%)</th>\n",
       "      <th>Alcohol use disorders(%)</th>\n",
       "    </tr>\n",
       "  </thead>\n",
       "  <tbody>\n",
       "    <tr>\n",
       "      <th>0</th>\n",
       "      <td>Afghanistan</td>\n",
       "      <td>AFG</td>\n",
       "      <td>1990</td>\n",
       "      <td>0.228979</td>\n",
       "      <td>0.721207</td>\n",
       "      <td>0.131001</td>\n",
       "      <td>4.835127</td>\n",
       "      <td>0.454202</td>\n",
       "      <td>5.125291</td>\n",
       "      <td>0.444036</td>\n",
       "    </tr>\n",
       "    <tr>\n",
       "      <th>1</th>\n",
       "      <td>Afghanistan</td>\n",
       "      <td>AFG</td>\n",
       "      <td>1991</td>\n",
       "      <td>0.228120</td>\n",
       "      <td>0.719952</td>\n",
       "      <td>0.126395</td>\n",
       "      <td>4.821765</td>\n",
       "      <td>0.447112</td>\n",
       "      <td>5.116306</td>\n",
       "      <td>0.444250</td>\n",
       "    </tr>\n",
       "    <tr>\n",
       "      <th>2</th>\n",
       "      <td>Afghanistan</td>\n",
       "      <td>AFG</td>\n",
       "      <td>1992</td>\n",
       "      <td>0.227328</td>\n",
       "      <td>0.718418</td>\n",
       "      <td>0.121832</td>\n",
       "      <td>4.801434</td>\n",
       "      <td>0.441190</td>\n",
       "      <td>5.106558</td>\n",
       "      <td>0.445501</td>\n",
       "    </tr>\n",
       "    <tr>\n",
       "      <th>3</th>\n",
       "      <td>Afghanistan</td>\n",
       "      <td>AFG</td>\n",
       "      <td>1993</td>\n",
       "      <td>0.226468</td>\n",
       "      <td>0.717452</td>\n",
       "      <td>0.117942</td>\n",
       "      <td>4.789363</td>\n",
       "      <td>0.435581</td>\n",
       "      <td>5.100328</td>\n",
       "      <td>0.445958</td>\n",
       "    </tr>\n",
       "    <tr>\n",
       "      <th>4</th>\n",
       "      <td>Afghanistan</td>\n",
       "      <td>AFG</td>\n",
       "      <td>1994</td>\n",
       "      <td>0.225567</td>\n",
       "      <td>0.717012</td>\n",
       "      <td>0.114547</td>\n",
       "      <td>4.784923</td>\n",
       "      <td>0.431822</td>\n",
       "      <td>5.099424</td>\n",
       "      <td>0.445779</td>\n",
       "    </tr>\n",
       "    <tr>\n",
       "      <th>...</th>\n",
       "      <td>...</td>\n",
       "      <td>...</td>\n",
       "      <td>...</td>\n",
       "      <td>...</td>\n",
       "      <td>...</td>\n",
       "      <td>...</td>\n",
       "      <td>...</td>\n",
       "      <td>...</td>\n",
       "      <td>...</td>\n",
       "      <td>...</td>\n",
       "    </tr>\n",
       "    <tr>\n",
       "      <th>6835</th>\n",
       "      <td>Zimbabwe</td>\n",
       "      <td>ZWE</td>\n",
       "      <td>2015</td>\n",
       "      <td>0.209359</td>\n",
       "      <td>0.560882</td>\n",
       "      <td>0.099610</td>\n",
       "      <td>3.315701</td>\n",
       "      <td>0.599604</td>\n",
       "      <td>3.548613</td>\n",
       "      <td>1.734969</td>\n",
       "    </tr>\n",
       "    <tr>\n",
       "      <th>6836</th>\n",
       "      <td>Zimbabwe</td>\n",
       "      <td>ZWE</td>\n",
       "      <td>2016</td>\n",
       "      <td>0.209979</td>\n",
       "      <td>0.561768</td>\n",
       "      <td>0.100821</td>\n",
       "      <td>3.324230</td>\n",
       "      <td>0.603658</td>\n",
       "      <td>3.557508</td>\n",
       "      <td>1.689281</td>\n",
       "    </tr>\n",
       "    <tr>\n",
       "      <th>6837</th>\n",
       "      <td>Zimbabwe</td>\n",
       "      <td>ZWE</td>\n",
       "      <td>2017</td>\n",
       "      <td>0.210631</td>\n",
       "      <td>0.562612</td>\n",
       "      <td>0.101671</td>\n",
       "      <td>3.330569</td>\n",
       "      <td>0.608096</td>\n",
       "      <td>3.564138</td>\n",
       "      <td>1.651805</td>\n",
       "    </tr>\n",
       "    <tr>\n",
       "      <th>6838</th>\n",
       "      <td>Zimbabwe</td>\n",
       "      <td>ZWE</td>\n",
       "      <td>2018</td>\n",
       "      <td>0.211237</td>\n",
       "      <td>0.563283</td>\n",
       "      <td>0.102398</td>\n",
       "      <td>3.317500</td>\n",
       "      <td>0.609065</td>\n",
       "      <td>3.563141</td>\n",
       "      <td>1.686711</td>\n",
       "    </tr>\n",
       "    <tr>\n",
       "      <th>6839</th>\n",
       "      <td>Zimbabwe</td>\n",
       "      <td>ZWE</td>\n",
       "      <td>2019</td>\n",
       "      <td>0.211969</td>\n",
       "      <td>0.563820</td>\n",
       "      <td>0.102902</td>\n",
       "      <td>3.283934</td>\n",
       "      <td>0.610644</td>\n",
       "      <td>3.554571</td>\n",
       "      <td>1.776729</td>\n",
       "    </tr>\n",
       "  </tbody>\n",
       "</table>\n",
       "<p>6150 rows × 10 columns</p>\n",
       "</div>"
      ],
      "text/plain": [
       "           Entity Code  Year  Schizophrenia(%)  Bipolar disorder(%)   \n",
       "0     Afghanistan  AFG  1990          0.228979             0.721207  \\\n",
       "1     Afghanistan  AFG  1991          0.228120             0.719952   \n",
       "2     Afghanistan  AFG  1992          0.227328             0.718418   \n",
       "3     Afghanistan  AFG  1993          0.226468             0.717452   \n",
       "4     Afghanistan  AFG  1994          0.225567             0.717012   \n",
       "...           ...  ...   ...               ...                  ...   \n",
       "6835     Zimbabwe  ZWE  2015          0.209359             0.560882   \n",
       "6836     Zimbabwe  ZWE  2016          0.209979             0.561768   \n",
       "6837     Zimbabwe  ZWE  2017          0.210631             0.562612   \n",
       "6838     Zimbabwe  ZWE  2018          0.211237             0.563283   \n",
       "6839     Zimbabwe  ZWE  2019          0.211969             0.563820   \n",
       "\n",
       "      Eating disorders(%)  Anxiety disorders(%)  Drug use disorders(%)   \n",
       "0                0.131001              4.835127               0.454202  \\\n",
       "1                0.126395              4.821765               0.447112   \n",
       "2                0.121832              4.801434               0.441190   \n",
       "3                0.117942              4.789363               0.435581   \n",
       "4                0.114547              4.784923               0.431822   \n",
       "...                   ...                   ...                    ...   \n",
       "6835             0.099610              3.315701               0.599604   \n",
       "6836             0.100821              3.324230               0.603658   \n",
       "6837             0.101671              3.330569               0.608096   \n",
       "6838             0.102398              3.317500               0.609065   \n",
       "6839             0.102902              3.283934               0.610644   \n",
       "\n",
       "      Depressive disorders(%)  Alcohol use disorders(%)  \n",
       "0                    5.125291                  0.444036  \n",
       "1                    5.116306                  0.444250  \n",
       "2                    5.106558                  0.445501  \n",
       "3                    5.100328                  0.445958  \n",
       "4                    5.099424                  0.445779  \n",
       "...                       ...                       ...  \n",
       "6835                 3.548613                  1.734969  \n",
       "6836                 3.557508                  1.689281  \n",
       "6837                 3.564138                  1.651805  \n",
       "6838                 3.563141                  1.686711  \n",
       "6839                 3.554571                  1.776729  \n",
       "\n",
       "[6150 rows x 10 columns]"
      ]
     },
     "execution_count": 17,
     "metadata": {},
     "output_type": "execute_result"
    }
   ],
   "source": [
    "df1_copy"
   ]
  },
  {
   "cell_type": "code",
   "execution_count": 18,
   "id": "0314ea8e",
   "metadata": {},
   "outputs": [],
   "source": [
    "df2['Mental fitness'] = df2['DALYs (Disability-Adjusted Life Years) - Mental disorders - Sex: Both - Age: All Ages (Percent)']"
   ]
  },
  {
   "cell_type": "code",
   "execution_count": 19,
   "id": "04baf913",
   "metadata": {},
   "outputs": [],
   "source": [
    "df2.drop(columns=['DALYs (Disability-Adjusted Life Years) - Mental disorders - Sex: Both - Age: All Ages (Percent)'], axis=1, inplace=True)"
   ]
  },
  {
   "cell_type": "code",
   "execution_count": 20,
   "id": "ce90d4a4",
   "metadata": {},
   "outputs": [
    {
     "data": {
      "text/html": [
       "<div>\n",
       "<style scoped>\n",
       "    .dataframe tbody tr th:only-of-type {\n",
       "        vertical-align: middle;\n",
       "    }\n",
       "\n",
       "    .dataframe tbody tr th {\n",
       "        vertical-align: top;\n",
       "    }\n",
       "\n",
       "    .dataframe thead th {\n",
       "        text-align: right;\n",
       "    }\n",
       "</style>\n",
       "<table border=\"1\" class=\"dataframe\">\n",
       "  <thead>\n",
       "    <tr style=\"text-align: right;\">\n",
       "      <th></th>\n",
       "      <th>Entity</th>\n",
       "      <th>Code</th>\n",
       "      <th>Year</th>\n",
       "      <th>Mental fitness</th>\n",
       "    </tr>\n",
       "  </thead>\n",
       "  <tbody>\n",
       "    <tr>\n",
       "      <th>0</th>\n",
       "      <td>Afghanistan</td>\n",
       "      <td>AFG</td>\n",
       "      <td>1990</td>\n",
       "      <td>1.696670</td>\n",
       "    </tr>\n",
       "    <tr>\n",
       "      <th>1</th>\n",
       "      <td>Afghanistan</td>\n",
       "      <td>AFG</td>\n",
       "      <td>1991</td>\n",
       "      <td>1.734281</td>\n",
       "    </tr>\n",
       "    <tr>\n",
       "      <th>2</th>\n",
       "      <td>Afghanistan</td>\n",
       "      <td>AFG</td>\n",
       "      <td>1992</td>\n",
       "      <td>1.791189</td>\n",
       "    </tr>\n",
       "    <tr>\n",
       "      <th>3</th>\n",
       "      <td>Afghanistan</td>\n",
       "      <td>AFG</td>\n",
       "      <td>1993</td>\n",
       "      <td>1.776779</td>\n",
       "    </tr>\n",
       "    <tr>\n",
       "      <th>4</th>\n",
       "      <td>Afghanistan</td>\n",
       "      <td>AFG</td>\n",
       "      <td>1994</td>\n",
       "      <td>1.712986</td>\n",
       "    </tr>\n",
       "    <tr>\n",
       "      <th>...</th>\n",
       "      <td>...</td>\n",
       "      <td>...</td>\n",
       "      <td>...</td>\n",
       "      <td>...</td>\n",
       "    </tr>\n",
       "    <tr>\n",
       "      <th>6835</th>\n",
       "      <td>Zimbabwe</td>\n",
       "      <td>ZWE</td>\n",
       "      <td>2015</td>\n",
       "      <td>2.193166</td>\n",
       "    </tr>\n",
       "    <tr>\n",
       "      <th>6836</th>\n",
       "      <td>Zimbabwe</td>\n",
       "      <td>ZWE</td>\n",
       "      <td>2016</td>\n",
       "      <td>2.279813</td>\n",
       "    </tr>\n",
       "    <tr>\n",
       "      <th>6837</th>\n",
       "      <td>Zimbabwe</td>\n",
       "      <td>ZWE</td>\n",
       "      <td>2017</td>\n",
       "      <td>2.364265</td>\n",
       "    </tr>\n",
       "    <tr>\n",
       "      <th>6838</th>\n",
       "      <td>Zimbabwe</td>\n",
       "      <td>ZWE</td>\n",
       "      <td>2018</td>\n",
       "      <td>2.472949</td>\n",
       "    </tr>\n",
       "    <tr>\n",
       "      <th>6839</th>\n",
       "      <td>Zimbabwe</td>\n",
       "      <td>ZWE</td>\n",
       "      <td>2019</td>\n",
       "      <td>2.525892</td>\n",
       "    </tr>\n",
       "  </tbody>\n",
       "</table>\n",
       "<p>6150 rows × 4 columns</p>\n",
       "</div>"
      ],
      "text/plain": [
       "           Entity Code  Year  Mental fitness\n",
       "0     Afghanistan  AFG  1990        1.696670\n",
       "1     Afghanistan  AFG  1991        1.734281\n",
       "2     Afghanistan  AFG  1992        1.791189\n",
       "3     Afghanistan  AFG  1993        1.776779\n",
       "4     Afghanistan  AFG  1994        1.712986\n",
       "...           ...  ...   ...             ...\n",
       "6835     Zimbabwe  ZWE  2015        2.193166\n",
       "6836     Zimbabwe  ZWE  2016        2.279813\n",
       "6837     Zimbabwe  ZWE  2017        2.364265\n",
       "6838     Zimbabwe  ZWE  2018        2.472949\n",
       "6839     Zimbabwe  ZWE  2019        2.525892\n",
       "\n",
       "[6150 rows x 4 columns]"
      ]
     },
     "execution_count": 20,
     "metadata": {},
     "output_type": "execute_result"
    }
   ],
   "source": [
    "df2"
   ]
  },
  {
   "cell_type": "code",
   "execution_count": 21,
   "id": "e7c92121",
   "metadata": {},
   "outputs": [],
   "source": [
    "## Merging\n",
    "df = pd.merge(df1_copy,df2, on=['Entity', 'Code', 'Year'])"
   ]
  },
  {
   "cell_type": "code",
   "execution_count": 22,
   "id": "30bf2471",
   "metadata": {},
   "outputs": [
    {
     "data": {
      "text/html": [
       "<div>\n",
       "<style scoped>\n",
       "    .dataframe tbody tr th:only-of-type {\n",
       "        vertical-align: middle;\n",
       "    }\n",
       "\n",
       "    .dataframe tbody tr th {\n",
       "        vertical-align: top;\n",
       "    }\n",
       "\n",
       "    .dataframe thead th {\n",
       "        text-align: right;\n",
       "    }\n",
       "</style>\n",
       "<table border=\"1\" class=\"dataframe\">\n",
       "  <thead>\n",
       "    <tr style=\"text-align: right;\">\n",
       "      <th></th>\n",
       "      <th>Entity</th>\n",
       "      <th>Code</th>\n",
       "      <th>Year</th>\n",
       "      <th>Schizophrenia(%)</th>\n",
       "      <th>Bipolar disorder(%)</th>\n",
       "      <th>Eating disorders(%)</th>\n",
       "      <th>Anxiety disorders(%)</th>\n",
       "      <th>Drug use disorders(%)</th>\n",
       "      <th>Depressive disorders(%)</th>\n",
       "      <th>Alcohol use disorders(%)</th>\n",
       "      <th>Mental fitness</th>\n",
       "    </tr>\n",
       "  </thead>\n",
       "  <tbody>\n",
       "    <tr>\n",
       "      <th>0</th>\n",
       "      <td>Afghanistan</td>\n",
       "      <td>AFG</td>\n",
       "      <td>1990</td>\n",
       "      <td>0.228979</td>\n",
       "      <td>0.721207</td>\n",
       "      <td>0.131001</td>\n",
       "      <td>4.835127</td>\n",
       "      <td>0.454202</td>\n",
       "      <td>5.125291</td>\n",
       "      <td>0.444036</td>\n",
       "      <td>1.696670</td>\n",
       "    </tr>\n",
       "    <tr>\n",
       "      <th>1</th>\n",
       "      <td>Afghanistan</td>\n",
       "      <td>AFG</td>\n",
       "      <td>1991</td>\n",
       "      <td>0.228120</td>\n",
       "      <td>0.719952</td>\n",
       "      <td>0.126395</td>\n",
       "      <td>4.821765</td>\n",
       "      <td>0.447112</td>\n",
       "      <td>5.116306</td>\n",
       "      <td>0.444250</td>\n",
       "      <td>1.734281</td>\n",
       "    </tr>\n",
       "    <tr>\n",
       "      <th>2</th>\n",
       "      <td>Afghanistan</td>\n",
       "      <td>AFG</td>\n",
       "      <td>1992</td>\n",
       "      <td>0.227328</td>\n",
       "      <td>0.718418</td>\n",
       "      <td>0.121832</td>\n",
       "      <td>4.801434</td>\n",
       "      <td>0.441190</td>\n",
       "      <td>5.106558</td>\n",
       "      <td>0.445501</td>\n",
       "      <td>1.791189</td>\n",
       "    </tr>\n",
       "    <tr>\n",
       "      <th>3</th>\n",
       "      <td>Afghanistan</td>\n",
       "      <td>AFG</td>\n",
       "      <td>1993</td>\n",
       "      <td>0.226468</td>\n",
       "      <td>0.717452</td>\n",
       "      <td>0.117942</td>\n",
       "      <td>4.789363</td>\n",
       "      <td>0.435581</td>\n",
       "      <td>5.100328</td>\n",
       "      <td>0.445958</td>\n",
       "      <td>1.776779</td>\n",
       "    </tr>\n",
       "    <tr>\n",
       "      <th>4</th>\n",
       "      <td>Afghanistan</td>\n",
       "      <td>AFG</td>\n",
       "      <td>1994</td>\n",
       "      <td>0.225567</td>\n",
       "      <td>0.717012</td>\n",
       "      <td>0.114547</td>\n",
       "      <td>4.784923</td>\n",
       "      <td>0.431822</td>\n",
       "      <td>5.099424</td>\n",
       "      <td>0.445779</td>\n",
       "      <td>1.712986</td>\n",
       "    </tr>\n",
       "    <tr>\n",
       "      <th>...</th>\n",
       "      <td>...</td>\n",
       "      <td>...</td>\n",
       "      <td>...</td>\n",
       "      <td>...</td>\n",
       "      <td>...</td>\n",
       "      <td>...</td>\n",
       "      <td>...</td>\n",
       "      <td>...</td>\n",
       "      <td>...</td>\n",
       "      <td>...</td>\n",
       "      <td>...</td>\n",
       "    </tr>\n",
       "    <tr>\n",
       "      <th>6145</th>\n",
       "      <td>Zimbabwe</td>\n",
       "      <td>ZWE</td>\n",
       "      <td>2015</td>\n",
       "      <td>0.209359</td>\n",
       "      <td>0.560882</td>\n",
       "      <td>0.099610</td>\n",
       "      <td>3.315701</td>\n",
       "      <td>0.599604</td>\n",
       "      <td>3.548613</td>\n",
       "      <td>1.734969</td>\n",
       "      <td>2.193166</td>\n",
       "    </tr>\n",
       "    <tr>\n",
       "      <th>6146</th>\n",
       "      <td>Zimbabwe</td>\n",
       "      <td>ZWE</td>\n",
       "      <td>2016</td>\n",
       "      <td>0.209979</td>\n",
       "      <td>0.561768</td>\n",
       "      <td>0.100821</td>\n",
       "      <td>3.324230</td>\n",
       "      <td>0.603658</td>\n",
       "      <td>3.557508</td>\n",
       "      <td>1.689281</td>\n",
       "      <td>2.279813</td>\n",
       "    </tr>\n",
       "    <tr>\n",
       "      <th>6147</th>\n",
       "      <td>Zimbabwe</td>\n",
       "      <td>ZWE</td>\n",
       "      <td>2017</td>\n",
       "      <td>0.210631</td>\n",
       "      <td>0.562612</td>\n",
       "      <td>0.101671</td>\n",
       "      <td>3.330569</td>\n",
       "      <td>0.608096</td>\n",
       "      <td>3.564138</td>\n",
       "      <td>1.651805</td>\n",
       "      <td>2.364265</td>\n",
       "    </tr>\n",
       "    <tr>\n",
       "      <th>6148</th>\n",
       "      <td>Zimbabwe</td>\n",
       "      <td>ZWE</td>\n",
       "      <td>2018</td>\n",
       "      <td>0.211237</td>\n",
       "      <td>0.563283</td>\n",
       "      <td>0.102398</td>\n",
       "      <td>3.317500</td>\n",
       "      <td>0.609065</td>\n",
       "      <td>3.563141</td>\n",
       "      <td>1.686711</td>\n",
       "      <td>2.472949</td>\n",
       "    </tr>\n",
       "    <tr>\n",
       "      <th>6149</th>\n",
       "      <td>Zimbabwe</td>\n",
       "      <td>ZWE</td>\n",
       "      <td>2019</td>\n",
       "      <td>0.211969</td>\n",
       "      <td>0.563820</td>\n",
       "      <td>0.102902</td>\n",
       "      <td>3.283934</td>\n",
       "      <td>0.610644</td>\n",
       "      <td>3.554571</td>\n",
       "      <td>1.776729</td>\n",
       "      <td>2.525892</td>\n",
       "    </tr>\n",
       "  </tbody>\n",
       "</table>\n",
       "<p>6150 rows × 11 columns</p>\n",
       "</div>"
      ],
      "text/plain": [
       "           Entity Code  Year  Schizophrenia(%)  Bipolar disorder(%)   \n",
       "0     Afghanistan  AFG  1990          0.228979             0.721207  \\\n",
       "1     Afghanistan  AFG  1991          0.228120             0.719952   \n",
       "2     Afghanistan  AFG  1992          0.227328             0.718418   \n",
       "3     Afghanistan  AFG  1993          0.226468             0.717452   \n",
       "4     Afghanistan  AFG  1994          0.225567             0.717012   \n",
       "...           ...  ...   ...               ...                  ...   \n",
       "6145     Zimbabwe  ZWE  2015          0.209359             0.560882   \n",
       "6146     Zimbabwe  ZWE  2016          0.209979             0.561768   \n",
       "6147     Zimbabwe  ZWE  2017          0.210631             0.562612   \n",
       "6148     Zimbabwe  ZWE  2018          0.211237             0.563283   \n",
       "6149     Zimbabwe  ZWE  2019          0.211969             0.563820   \n",
       "\n",
       "      Eating disorders(%)  Anxiety disorders(%)  Drug use disorders(%)   \n",
       "0                0.131001              4.835127               0.454202  \\\n",
       "1                0.126395              4.821765               0.447112   \n",
       "2                0.121832              4.801434               0.441190   \n",
       "3                0.117942              4.789363               0.435581   \n",
       "4                0.114547              4.784923               0.431822   \n",
       "...                   ...                   ...                    ...   \n",
       "6145             0.099610              3.315701               0.599604   \n",
       "6146             0.100821              3.324230               0.603658   \n",
       "6147             0.101671              3.330569               0.608096   \n",
       "6148             0.102398              3.317500               0.609065   \n",
       "6149             0.102902              3.283934               0.610644   \n",
       "\n",
       "      Depressive disorders(%)  Alcohol use disorders(%)  Mental fitness  \n",
       "0                    5.125291                  0.444036        1.696670  \n",
       "1                    5.116306                  0.444250        1.734281  \n",
       "2                    5.106558                  0.445501        1.791189  \n",
       "3                    5.100328                  0.445958        1.776779  \n",
       "4                    5.099424                  0.445779        1.712986  \n",
       "...                       ...                       ...             ...  \n",
       "6145                 3.548613                  1.734969        2.193166  \n",
       "6146                 3.557508                  1.689281        2.279813  \n",
       "6147                 3.564138                  1.651805        2.364265  \n",
       "6148                 3.563141                  1.686711        2.472949  \n",
       "6149                 3.554571                  1.776729        2.525892  \n",
       "\n",
       "[6150 rows x 11 columns]"
      ]
     },
     "execution_count": 22,
     "metadata": {},
     "output_type": "execute_result"
    }
   ],
   "source": [
    "df"
   ]
  },
  {
   "cell_type": "code",
   "execution_count": 23,
   "id": "1473f617",
   "metadata": {},
   "outputs": [
    {
     "name": "stdout",
     "output_type": "stream",
     "text": [
      "<class 'pandas.core.frame.DataFrame'>\n",
      "RangeIndex: 6150 entries, 0 to 6149\n",
      "Data columns (total 11 columns):\n",
      " #   Column                    Non-Null Count  Dtype  \n",
      "---  ------                    --------------  -----  \n",
      " 0   Entity                    6150 non-null   object \n",
      " 1   Code                      6150 non-null   object \n",
      " 2   Year                      6150 non-null   int64  \n",
      " 3   Schizophrenia(%)          6150 non-null   float64\n",
      " 4   Bipolar disorder(%)       6150 non-null   float64\n",
      " 5   Eating disorders(%)       6150 non-null   float64\n",
      " 6   Anxiety disorders(%)      6150 non-null   float64\n",
      " 7   Drug use disorders(%)     6150 non-null   float64\n",
      " 8   Depressive disorders(%)   6150 non-null   float64\n",
      " 9   Alcohol use disorders(%)  6150 non-null   float64\n",
      " 10  Mental fitness            6150 non-null   float64\n",
      "dtypes: float64(8), int64(1), object(2)\n",
      "memory usage: 528.6+ KB\n"
     ]
    }
   ],
   "source": [
    "df.info()"
   ]
  },
  {
   "cell_type": "code",
   "execution_count": 24,
   "id": "7f8ea877",
   "metadata": {},
   "outputs": [
    {
     "data": {
      "text/plain": [
       "205"
      ]
     },
     "execution_count": 24,
     "metadata": {},
     "output_type": "execute_result"
    }
   ],
   "source": [
    "df['Entity'].nunique()"
   ]
  },
  {
   "cell_type": "code",
   "execution_count": 25,
   "id": "490fefc3",
   "metadata": {},
   "outputs": [
    {
     "data": {
      "text/plain": [
       "205"
      ]
     },
     "execution_count": 25,
     "metadata": {},
     "output_type": "execute_result"
    }
   ],
   "source": [
    "df['Code'].nunique()"
   ]
  },
  {
   "cell_type": "markdown",
   "id": "7a60c0bd",
   "metadata": {},
   "source": [
    "### CORRELATION"
   ]
  },
  {
   "cell_type": "code",
   "execution_count": 26,
   "id": "86d64f1f",
   "metadata": {},
   "outputs": [],
   "source": [
    "corr = df.corr(numeric_only=True)"
   ]
  },
  {
   "cell_type": "code",
   "execution_count": 27,
   "id": "ca0c3fc5",
   "metadata": {},
   "outputs": [
    {
     "data": {
      "text/plain": [
       "<Axes: >"
      ]
     },
     "execution_count": 27,
     "metadata": {},
     "output_type": "execute_result"
    },
    {
     "data": {
      "image/png": "[encoded data removed]",
      "text/plain": [
       "<Figure size 640x480 with 2 Axes>"
      ]
     },
     "metadata": {},
     "output_type": "display_data"
    }
   ],
   "source": [
    "sns.heatmap(corr, annot=True, cmap='Blues')"
   ]
  },
  {
   "cell_type": "code",
   "execution_count": 28,
   "id": "d1dab752",
   "metadata": {},
   "outputs": [
    {
     "data": {
      "text/plain": [
       "{'AFG': 30,\n",
       " 'PRY': 30,\n",
       " 'PRK': 30,\n",
       " 'MKD': 30,\n",
       " 'MNP': 30,\n",
       " 'NOR': 30,\n",
       " 'OMN': 30,\n",
       " 'PAK': 30,\n",
       " 'PLW': 30,\n",
       " 'PSE': 30,\n",
       " 'PAN': 30,\n",
       " 'PNG': 30,\n",
       " 'PER': 30,\n",
       " 'NGA': 30,\n",
       " 'PHL': 30,\n",
       " 'POL': 30,\n",
       " 'PRT': 30,\n",
       " 'PRI': 30,\n",
       " 'QAT': 30,\n",
       " 'ROU': 30,\n",
       " 'RUS': 30,\n",
       " 'RWA': 30,\n",
       " 'KNA': 30,\n",
       " 'LCA': 30,\n",
       " 'NIU': 30,\n",
       " 'NER': 30,\n",
       " 'LUX': 30,\n",
       " 'MDA': 30,\n",
       " 'MWI': 30,\n",
       " 'MYS': 30,\n",
       " 'MDV': 30,\n",
       " 'MLI': 30,\n",
       " 'MLT': 30,\n",
       " 'MHL': 30,\n",
       " 'MRT': 30,\n",
       " 'MUS': 30,\n",
       " 'MEX': 30,\n",
       " 'FSM': 30,\n",
       " 'MCO': 30,\n",
       " 'NIC': 30,\n",
       " 'MNG': 30,\n",
       " 'MNE': 30,\n",
       " 'MAR': 30,\n",
       " 'MOZ': 30,\n",
       " 'MMR': 30,\n",
       " 'NAM': 30,\n",
       " 'NRU': 30,\n",
       " 'NPL': 30,\n",
       " 'NLD': 30,\n",
       " 'NZL': 30,\n",
       " 'VCT': 30,\n",
       " 'WSM': 30,\n",
       " 'SMR': 30,\n",
       " 'ARE': 30,\n",
       " 'TGO': 30,\n",
       " 'TKL': 30,\n",
       " 'TON': 30,\n",
       " 'TTO': 30,\n",
       " 'TUN': 30,\n",
       " 'TUR': 30,\n",
       " 'TKM': 30,\n",
       " 'TUV': 30,\n",
       " 'UGA': 30,\n",
       " 'UKR': 30,\n",
       " 'GBR': 30,\n",
       " 'STP': 30,\n",
       " 'USA': 30,\n",
       " 'VIR': 30,\n",
       " 'URY': 30,\n",
       " 'UZB': 30,\n",
       " 'VUT': 30,\n",
       " 'VEN': 30,\n",
       " 'VNM': 30,\n",
       " 'OWID_WRL': 30,\n",
       " 'YEM': 30,\n",
       " 'ZMB': 30,\n",
       " 'TLS': 30,\n",
       " 'THA': 30,\n",
       " 'TZA': 30,\n",
       " 'TJK': 30,\n",
       " 'SAU': 30,\n",
       " 'SEN': 30,\n",
       " 'SRB': 30,\n",
       " 'SYC': 30,\n",
       " 'SLE': 30,\n",
       " 'SGP': 30,\n",
       " 'SVK': 30,\n",
       " 'SVN': 30,\n",
       " 'SLB': 30,\n",
       " 'SOM': 30,\n",
       " 'ZAF': 30,\n",
       " 'KOR': 30,\n",
       " 'SSD': 30,\n",
       " 'ESP': 30,\n",
       " 'LKA': 30,\n",
       " 'SDN': 30,\n",
       " 'SUR': 30,\n",
       " 'SWE': 30,\n",
       " 'CHE': 30,\n",
       " 'SYR': 30,\n",
       " 'TWN': 30,\n",
       " 'MDG': 30,\n",
       " 'LTU': 30,\n",
       " 'ALB': 30,\n",
       " 'COL': 30,\n",
       " 'BFA': 30,\n",
       " 'BDI': 30,\n",
       " 'KHM': 30,\n",
       " 'CMR': 30,\n",
       " 'CAN': 30,\n",
       " 'CPV': 30,\n",
       " 'CAF': 30,\n",
       " 'TCD': 30,\n",
       " 'CHL': 30,\n",
       " 'CHN': 30,\n",
       " 'COM': 30,\n",
       " 'BRN': 30,\n",
       " 'COG': 30,\n",
       " 'COK': 30,\n",
       " 'CRI': 30,\n",
       " 'CIV': 30,\n",
       " 'HRV': 30,\n",
       " 'CUB': 30,\n",
       " 'CYP': 30,\n",
       " 'CZE': 30,\n",
       " 'COD': 30,\n",
       " 'DNK': 30,\n",
       " 'BGR': 30,\n",
       " 'BRA': 30,\n",
       " 'LBY': 30,\n",
       " 'BHS': 30,\n",
       " 'DZA': 30,\n",
       " 'ASM': 30,\n",
       " 'AND': 30,\n",
       " 'AGO': 30,\n",
       " 'ATG': 30,\n",
       " 'ARG': 30,\n",
       " 'ARM': 30,\n",
       " 'AUS': 30,\n",
       " 'AUT': 30,\n",
       " 'AZE': 30,\n",
       " 'BHR': 30,\n",
       " 'BWA': 30,\n",
       " 'BGD': 30,\n",
       " 'BRB': 30,\n",
       " 'BLR': 30,\n",
       " 'BEL': 30,\n",
       " 'BLZ': 30,\n",
       " 'BEN': 30,\n",
       " 'BMU': 30,\n",
       " 'BTN': 30,\n",
       " 'BOL': 30,\n",
       " 'BIH': 30,\n",
       " 'DJI': 30,\n",
       " 'DMA': 30,\n",
       " 'DOM': 30,\n",
       " 'JPN': 30,\n",
       " 'HUN': 30,\n",
       " 'ISL': 30,\n",
       " 'IND': 30,\n",
       " 'IDN': 30,\n",
       " 'IRN': 30,\n",
       " 'IRQ': 30,\n",
       " 'IRL': 30,\n",
       " 'ISR': 30,\n",
       " 'ITA': 30,\n",
       " 'JAM': 30,\n",
       " 'JOR': 30,\n",
       " 'ECU': 30,\n",
       " 'KAZ': 30,\n",
       " 'KEN': 30,\n",
       " 'KIR': 30,\n",
       " 'KWT': 30,\n",
       " 'KGZ': 30,\n",
       " 'LAO': 30,\n",
       " 'LVA': 30,\n",
       " 'LBN': 30,\n",
       " 'LSO': 30,\n",
       " 'LBR': 30,\n",
       " 'HND': 30,\n",
       " 'HTI': 30,\n",
       " 'GUY': 30,\n",
       " 'GNB': 30,\n",
       " 'EGY': 30,\n",
       " 'SLV': 30,\n",
       " 'GNQ': 30,\n",
       " 'ERI': 30,\n",
       " 'EST': 30,\n",
       " 'SWZ': 30,\n",
       " 'ETH': 30,\n",
       " 'FJI': 30,\n",
       " 'FIN': 30,\n",
       " 'FRA': 30,\n",
       " 'GAB': 30,\n",
       " 'GMB': 30,\n",
       " 'GEO': 30,\n",
       " 'DEU': 30,\n",
       " 'GHA': 30,\n",
       " 'GRC': 30,\n",
       " 'GRL': 30,\n",
       " 'GRD': 30,\n",
       " 'GUM': 30,\n",
       " 'GTM': 30,\n",
       " 'GIN': 30,\n",
       " 'ZWE': 30}"
      ]
     },
     "execution_count": 28,
     "metadata": {},
     "output_type": "execute_result"
    }
   ],
   "source": [
    "df['Code'].value_counts().to_dict()"
   ]
  },
  {
   "cell_type": "code",
   "execution_count": 29,
   "id": "2734a69c",
   "metadata": {},
   "outputs": [
    {
     "data": {
      "text/plain": [
       "array(['Afghanistan', 'Albania', 'Algeria', 'American Samoa', 'Andorra'],\n",
       "      dtype=object)"
      ]
     },
     "execution_count": 29,
     "metadata": {},
     "output_type": "execute_result"
    }
   ],
   "source": [
    "df['Entity'].unique()[:5]"
   ]
  },
  {
   "cell_type": "markdown",
   "id": "0231476c",
   "metadata": {},
   "source": [
    "### TARGET ENCODING"
   ]
  },
  {
   "cell_type": "code",
   "execution_count": 30,
   "id": "b477c614",
   "metadata": {},
   "outputs": [],
   "source": [
    "mean_target = df.groupby('Entity')['Mental fitness'].mean().round(4)\n",
    "\n",
    "# Map the mean target values to the 'Entity' column\n",
    "df['Entity_encoded'] = df['Entity'].map(mean_target)"
   ]
  },
  {
   "cell_type": "code",
   "execution_count": 31,
   "id": "e94aee83",
   "metadata": {},
   "outputs": [],
   "source": [
    "mean_target_map = dict(zip(df['Entity_encoded'], df['Entity']))"
   ]
  },
  {
   "cell_type": "code",
   "execution_count": 32,
   "id": "c36b8230",
   "metadata": {},
   "outputs": [
    {
     "data": {
      "text/plain": [
       "{2.5531: 'Afghanistan',\n",
       " 5.2767: 'Albania',\n",
       " 6.4512: 'Algeria',\n",
       " 4.5295: 'American Samoa',\n",
       " 8.9905: 'Andorra',\n",
       " 2.1007: 'Angola',\n",
       " 6.4961: 'Antigua and Barbuda',\n",
       " 5.9511: 'Argentina',\n",
       " 4.6368: 'Armenia',\n",
       " 9.563: 'Australia',\n",
       " 6.8401: 'Austria',\n",
       " 3.6093: 'Azerbaijan',\n",
       " 5.6012: 'Bahamas',\n",
       " 10.9031: 'Bahrain',\n",
       " 3.9777: 'Bangladesh',\n",
       " 5.6927: 'Barbados',\n",
       " 4.2687: 'Belarus',\n",
       " 6.3106: 'Belgium',\n",
       " 5.6594: 'Belize',\n",
       " 1.7226: 'Benin',\n",
       " 7.2348: 'Bermuda',\n",
       " 3.7801: 'Bhutan',\n",
       " 4.2797: 'Bolivia',\n",
       " 5.0057: 'Bosnia and Herzegovina',\n",
       " 2.2689: 'Botswana',\n",
       " 6.6777: 'Brazil',\n",
       " 6.1557: 'Brunei',\n",
       " 3.409: 'Bulgaria',\n",
       " 1.3939: 'Burkina Faso',\n",
       " 1.7088: 'Burundi',\n",
       " 2.9998: 'Cambodia',\n",
       " 1.892: 'Cameroon',\n",
       " 6.986: 'Canada',\n",
       " 4.9172: 'Cape Verde',\n",
       " 1.5039: 'Central African Republic',\n",
       " 1.3554: 'Chad',\n",
       " 8.6854: 'Chile',\n",
       " 4.8842: 'China',\n",
       " 5.437: 'Colombia',\n",
       " 2.7553: 'Comoros',\n",
       " 2.7378: 'Congo',\n",
       " 4.8587: 'Cook Islands',\n",
       " 7.7278: 'Costa Rica',\n",
       " 1.648: \"Cote d'Ivoire\",\n",
       " 4.7316: 'Croatia',\n",
       " 7.4889: 'Cuba',\n",
       " 8.0335: 'Cyprus',\n",
       " 4.7461: 'Czechia',\n",
       " 2.0757: 'Democratic Republic of Congo',\n",
       " 6.2607: 'Denmark',\n",
       " 2.5728: 'Djibouti',\n",
       " 4.7369: 'Dominica',\n",
       " 5.4072: 'Dominican Republic',\n",
       " 6.0197: 'Ecuador',\n",
       " 5.149: 'Egypt',\n",
       " 5.1754: 'El Salvador',\n",
       " 2.7213: 'Equatorial Guinea',\n",
       " 2.3475: 'Eritrea',\n",
       " 4.7842: 'Estonia',\n",
       " 1.9061: 'Eswatini',\n",
       " 2.1216: 'Ethiopia',\n",
       " 3.8402: 'Fiji',\n",
       " 6.7199: 'Finland',\n",
       " 7.9698: 'France',\n",
       " 3.5127: 'Gabon',\n",
       " 2.8208: 'Gambia',\n",
       " 3.8908: 'Georgia',\n",
       " 6.3313: 'Germany',\n",
       " 2.469: 'Ghana',\n",
       " 8.4506: 'Greece',\n",
       " 6.8008: 'Greenland',\n",
       " 5.6572: 'Grenada',\n",
       " 5.8017: 'Guam',\n",
       " 4.1184: 'Guatemala',\n",
       " 1.4968: 'Guinea',\n",
       " 1.6254: 'Guinea-Bissau',\n",
       " 4.5927: 'Guyana',\n",
       " 2.4749: 'Haiti',\n",
       " 4.4256: 'Honduras',\n",
       " 3.9672: 'Hungary',\n",
       " 7.9983: 'Iceland',\n",
       " 3.4812: 'India',\n",
       " 3.4841: 'Indonesia',\n",
       " 8.1342: 'Iran',\n",
       " 4.8732: 'Iraq',\n",
       " 8.7607: 'Ireland',\n",
       " 9.0384: 'Israel',\n",
       " 7.0979: 'Italy',\n",
       " 6.2139: 'Jamaica',\n",
       " 5.4689: 'Japan',\n",
       " 8.4414: 'Jordan',\n",
       " 3.528: 'Kazakhstan',\n",
       " 2.6611: 'Kenya',\n",
       " 2.2758: 'Kiribati',\n",
       " 10.8263: 'Kuwait',\n",
       " 4.0568: 'Kyrgyzstan',\n",
       " 2.5201: 'Laos',\n",
       " 4.2786: 'Latvia',\n",
       " 7.641: 'Lebanon',\n",
       " 1.9733: 'Lesotho',\n",
       " 2.0286: 'Liberia',\n",
       " 7.7196: 'Libya',\n",
       " 4.7939: 'Lithuania',\n",
       " 7.3014: 'Luxembourg',\n",
       " 2.4446: 'Madagascar',\n",
       " 1.6621: 'Malawi',\n",
       " 6.4907: 'Malaysia',\n",
       " 5.7689: 'Maldives',\n",
       " 1.1286: 'Mali',\n",
       " 7.5623: 'Malta',\n",
       " 3.3393: 'Marshall Islands',\n",
       " 2.555: 'Mauritania',\n",
       " 5.675: 'Mauritius',\n",
       " 5.7471: 'Mexico',\n",
       " 3.2361: 'Micronesia (country)',\n",
       " 4.2595: 'Moldova',\n",
       " 6.0679: 'Monaco',\n",
       " 3.4176: 'Mongolia',\n",
       " 4.8591: 'Montenegro',\n",
       " 5.9959: 'Morocco',\n",
       " 1.6056: 'Mozambique',\n",
       " 2.3171: 'Myanmar',\n",
       " 2.448: 'Namibia',\n",
       " 2.8692: 'Nauru',\n",
       " 3.7071: 'Nepal',\n",
       " 8.0616: 'Netherlands',\n",
       " 8.8092: 'New Zealand',\n",
       " 6.0227: 'Nicaragua',\n",
       " 1.1214: 'Niger',\n",
       " 1.5244: 'Nigeria',\n",
       " 3.3889: 'Niue',\n",
       " 3.3932: 'North Korea',\n",
       " 4.3965: 'North Macedonia',\n",
       " 5.2246: 'Northern Mariana Islands',\n",
       " 7.1856: 'Norway',\n",
       " 7.6724: 'Oman',\n",
       " 2.3165: 'Pakistan',\n",
       " 3.6494: 'Palau',\n",
       " 7.857: 'Palestine',\n",
       " 6.3036: 'Panama',\n",
       " 2.5712: 'Papua New Guinea',\n",
       " 7.3527: 'Paraguay',\n",
       " 5.7529: 'Peru',\n",
       " 4.101: 'Philippines',\n",
       " 4.0561: 'Poland',\n",
       " 8.1725: 'Portugal',\n",
       " 5.8725: 'Puerto Rico',\n",
       " 10.9548: 'Qatar',\n",
       " 3.8983: 'Romania',\n",
       " 3.3029: 'Russia',\n",
       " 2.493: 'Rwanda',\n",
       " 5.602: 'Saint Kitts and Nevis',\n",
       " 5.9335: 'Saint Lucia',\n",
       " 5.3011: 'Saint Vincent and the Grenadines',\n",
       " 4.3237: 'Samoa',\n",
       " 8.5054: 'San Marino',\n",
       " 3.2613: 'Sao Tome and Principe',\n",
       " 7.2403: 'Saudi Arabia',\n",
       " 2.2818: 'Senegal',\n",
       " 4.0757: 'Serbia',\n",
       " 4.5504: 'Seychelles',\n",
       " 1.489: 'Sierra Leone',\n",
       " 8.59: 'Singapore',\n",
       " 4.6915: 'Slovakia',\n",
       " 5.5852: 'Slovenia',\n",
       " 2.297: 'Solomon Islands',\n",
       " 1.5704: 'Somalia',\n",
       " 2.6153: 'South Africa',\n",
       " 6.1601: 'South Korea',\n",
       " 1.865: 'South Sudan',\n",
       " 8.0635: 'Spain',\n",
       " 5.0416: 'Sri Lanka',\n",
       " 3.438: 'Sudan',\n",
       " 5.6616: 'Suriname',\n",
       " 7.5053: 'Sweden',\n",
       " 8.2229: 'Switzerland',\n",
       " 6.5797: 'Syria',\n",
       " 5.5023: 'Taiwan',\n",
       " 3.2286: 'Tajikistan',\n",
       " 2.0378: 'Tanzania',\n",
       " 4.8745: 'Thailand',\n",
       " 2.6784: 'Timor',\n",
       " 2.1028: 'Togo',\n",
       " 3.8579: 'Tokelau',\n",
       " 4.4772: 'Tonga',\n",
       " 5.7461: 'Trinidad and Tobago',\n",
       " 8.1533: 'Tunisia',\n",
       " 6.8851: 'Turkey',\n",
       " 3.4409: 'Turkmenistan',\n",
       " 3.2041: 'Tuvalu',\n",
       " 2.2414: 'Uganda',\n",
       " 3.9308: 'Ukraine',\n",
       " 9.4892: 'United Arab Emirates',\n",
       " 6.8162: 'United Kingdom',\n",
       " 7.0728: 'United States',\n",
       " 5.4011: 'United States Virgin Islands',\n",
       " 5.6569: 'Uruguay',\n",
       " 3.5752: 'Uzbekistan',\n",
       " 3.2004: 'Vanuatu',\n",
       " 5.7114: 'Venezuela',\n",
       " 4.2704: 'Vietnam',\n",
       " 3.9921: 'World',\n",
       " 3.4702: 'Yemen',\n",
       " 1.6643: 'Zambia',\n",
       " 1.7439: 'Zimbabwe'}"
      ]
     },
     "execution_count": 32,
     "metadata": {},
     "output_type": "execute_result"
    }
   ],
   "source": [
    "mean_target_map"
   ]
  },
  {
   "cell_type": "code",
   "execution_count": 33,
   "id": "0f3683b1",
   "metadata": {},
   "outputs": [],
   "source": [
    "decoded_country = df['Entity_encoded'].map(mean_target_map)"
   ]
  },
  {
   "cell_type": "code",
   "execution_count": 34,
   "id": "200f2029",
   "metadata": {},
   "outputs": [
    {
     "data": {
      "text/plain": [
       "0       Afghanistan\n",
       "1       Afghanistan\n",
       "2       Afghanistan\n",
       "3       Afghanistan\n",
       "4       Afghanistan\n",
       "           ...     \n",
       "6145       Zimbabwe\n",
       "6146       Zimbabwe\n",
       "6147       Zimbabwe\n",
       "6148       Zimbabwe\n",
       "6149       Zimbabwe\n",
       "Name: Entity_encoded, Length: 6150, dtype: object"
      ]
     },
     "execution_count": 34,
     "metadata": {},
     "output_type": "execute_result"
    }
   ],
   "source": [
    "decoded_country"
   ]
  },
  {
   "cell_type": "code",
   "execution_count": 35,
   "id": "03283150",
   "metadata": {},
   "outputs": [
    {
     "data": {
      "text/plain": [
       "205"
      ]
     },
     "execution_count": 35,
     "metadata": {},
     "output_type": "execute_result"
    }
   ],
   "source": [
    "df['Entity_encoded'].nunique()"
   ]
  },
  {
   "cell_type": "code",
   "execution_count": 36,
   "id": "b63daf45",
   "metadata": {},
   "outputs": [],
   "source": [
    "df.drop(columns=['Entity','Code'], axis=1, inplace=True)"
   ]
  },
  {
   "cell_type": "code",
   "execution_count": 37,
   "id": "7f1190ca",
   "metadata": {},
   "outputs": [
    {
     "name": "stdout",
     "output_type": "stream",
     "text": [
      "<class 'pandas.core.frame.DataFrame'>\n",
      "RangeIndex: 6150 entries, 0 to 6149\n",
      "Data columns (total 10 columns):\n",
      " #   Column                    Non-Null Count  Dtype  \n",
      "---  ------                    --------------  -----  \n",
      " 0   Year                      6150 non-null   int64  \n",
      " 1   Schizophrenia(%)          6150 non-null   float64\n",
      " 2   Bipolar disorder(%)       6150 non-null   float64\n",
      " 3   Eating disorders(%)       6150 non-null   float64\n",
      " 4   Anxiety disorders(%)      6150 non-null   float64\n",
      " 5   Drug use disorders(%)     6150 non-null   float64\n",
      " 6   Depressive disorders(%)   6150 non-null   float64\n",
      " 7   Alcohol use disorders(%)  6150 non-null   float64\n",
      " 8   Mental fitness            6150 non-null   float64\n",
      " 9   Entity_encoded            6150 non-null   float64\n",
      "dtypes: float64(9), int64(1)\n",
      "memory usage: 480.6 KB\n"
     ]
    }
   ],
   "source": [
    "df.info()"
   ]
  },
  {
   "cell_type": "markdown",
   "id": "3765d02f",
   "metadata": {},
   "source": [
    "### SPLITTING DATA"
   ]
  },
  {
   "cell_type": "code",
   "execution_count": 38,
   "id": "c7a5f564",
   "metadata": {},
   "outputs": [],
   "source": [
    "x = df.drop(columns=['Mental fitness'], axis=1)\n",
    "y = df['Mental fitness']"
   ]
  },
  {
   "cell_type": "code",
   "execution_count": 39,
   "id": "074a5910",
   "metadata": {},
   "outputs": [],
   "source": [
    "from sklearn.model_selection import train_test_split"
   ]
  },
  {
   "cell_type": "code",
   "execution_count": 40,
   "id": "a3596c21",
   "metadata": {},
   "outputs": [],
   "source": [
    "X_train, X_test, y_train, y_test = train_test_split(x,y, test_size=0.2, random_state=42)"
   ]
  },
  {
   "cell_type": "code",
   "execution_count": 41,
   "id": "985d827d",
   "metadata": {},
   "outputs": [
    {
     "data": {
      "text/plain": [
       "((4920, 9), (1230, 9))"
      ]
     },
     "execution_count": 41,
     "metadata": {},
     "output_type": "execute_result"
    }
   ],
   "source": [
    "X_train.shape, X_test.shape"
   ]
  },
  {
   "cell_type": "markdown",
   "id": "9266ae48",
   "metadata": {},
   "source": [
    "### FEATURE SCALING"
   ]
  },
  {
   "cell_type": "code",
   "execution_count": 42,
   "id": "7f22dbd3",
   "metadata": {},
   "outputs": [],
   "source": [
    "from sklearn.preprocessing import StandardScaler"
   ]
  },
  {
   "cell_type": "code",
   "execution_count": 43,
   "id": "24dd49e9",
   "metadata": {},
   "outputs": [],
   "source": [
    "sc = StandardScaler()"
   ]
  },
  {
   "cell_type": "code",
   "execution_count": 44,
   "id": "be2dd16d",
   "metadata": {},
   "outputs": [],
   "source": [
    "X_train_sc = sc.fit_transform(X_train)\n",
    "X_test_sc = sc.transform(X_test)"
   ]
  },
  {
   "cell_type": "code",
   "execution_count": 45,
   "id": "7b029236",
   "metadata": {},
   "outputs": [
    {
     "data": {
      "text/plain": [
       "array([[ 0.29314933,  0.4955282 , -0.3528099 , ..., -1.38553336,\n",
       "         0.2211483 ,  0.22591014],\n",
       "       [ 0.75390955,  0.40154136, -1.26667853, ..., -1.57132579,\n",
       "        -1.12315495, -0.57512952],\n",
       "       [-0.05242084,  0.95451349, -1.80164538, ..., -1.26647832,\n",
       "        -1.11371091,  0.32672155],\n",
       "       ...,\n",
       "       [-0.97394129,  0.62980429,  1.52393419, ...,  0.76235066,\n",
       "         1.82863426,  1.22178037],\n",
       "       [ 0.63871949, -1.42892269, -0.26512794, ...,  0.80312617,\n",
       "        -0.14509322, -1.22142187],\n",
       "       [ 0.63871949, -1.56599687, -0.50425483, ...,  0.46404959,\n",
       "        -1.07363046, -1.50915445]])"
      ]
     },
     "execution_count": 45,
     "metadata": {},
     "output_type": "execute_result"
    }
   ],
   "source": [
    "X_train_sc"
   ]
  },
  {
   "cell_type": "markdown",
   "id": "12ef5bab",
   "metadata": {},
   "source": [
    "### MODEL BUILDING"
   ]
  },
  {
   "cell_type": "code",
   "execution_count": 46,
   "id": "3e1f8a34",
   "metadata": {},
   "outputs": [],
   "source": [
    "from sklearn.linear_model import LinearRegression,Ridge, Lasso, ElasticNet\n",
    "from sklearn.tree import DecisionTreeRegressor\n",
    "from sklearn.svm import SVR\n",
    "from sklearn.ensemble import RandomForestRegressor\n",
    "from sklearn.ensemble import GradientBoostingRegressor"
   ]
  },
  {
   "cell_type": "code",
   "execution_count": 47,
   "id": "52d96bd6",
   "metadata": {},
   "outputs": [],
   "source": [
    "model_params = {\n",
    "    'Linear Regression': {\n",
    "        'model': LinearRegression(),\n",
    "        'params': {}\n",
    "    },\n",
    "    'Ridge Regression': {\n",
    "        'model': Ridge(),\n",
    "        'params': {'alpha': [0.1, 1.0, 10.0]}\n",
    "    },\n",
    "    'Lasso Regression': {\n",
    "        'model': Lasso(),\n",
    "        'params': {'alpha': [0.1, 1.0, 10.0]}\n",
    "    },\n",
    "    'Elastic Net Regression': {\n",
    "        'model': ElasticNet(),\n",
    "        'params': {'alpha': [0.1, 1.0, 10.0], 'l1_ratio': [0.2, 0.5, 0.8]}\n",
    "    },\n",
    "    'Polynomial Regression': {\n",
    "        'model': LinearRegression(),\n",
    "        'params': {}\n",
    "    },\n",
    "    'Decision Tree Regression': {\n",
    "        'model': DecisionTreeRegressor(),\n",
    "        'params': {'max_depth': [None, 5, 10]}\n",
    "    },\n",
    "    'Random Forest Regression': {\n",
    "        'model': RandomForestRegressor(),\n",
    "        'params': {'n_estimators': [100, 200], 'max_depth': [None, 5, 10]}\n",
    "    },\n",
    "    'Gradient Boosting Regression': {\n",
    "        'model': GradientBoostingRegressor(),\n",
    "        'params': {'n_estimators': [100, 200], 'learning_rate': [0.1, 0.01]}\n",
    "    }\n",
    "}\n"
   ]
  },
  {
   "cell_type": "markdown",
   "id": "98faa56d",
   "metadata": {},
   "source": [
    "### HYPERPARAMETER TUNING"
   ]
  },
  {
   "cell_type": "code",
   "execution_count": 48,
   "id": "19c82616",
   "metadata": {},
   "outputs": [],
   "source": [
    "from sklearn.model_selection import GridSearchCV"
   ]
  },
  {
   "cell_type": "code",
   "execution_count": 49,
   "id": "f2239177",
   "metadata": {},
   "outputs": [],
   "source": [
    "scores = []\n",
    "for model_name, mp in model_params.items():\n",
    "    gscv = GridSearchCV(mp['model'], mp['params'], cv=5, return_train_score=False)\n",
    "    gscv.fit(X_train_sc, y_train)\n",
    "    scores.append({\n",
    "        'model': model_name,\n",
    "        'score': gscv.best_score_,\n",
    "        'best_params': gscv.best_params_\n",
    "    })\n"
   ]
  },
  {
   "cell_type": "code",
   "execution_count": 50,
   "id": "24b7d113",
   "metadata": {},
   "outputs": [
    {
     "data": {
      "text/html": [
       "<div>\n",
       "<style scoped>\n",
       "    .dataframe tbody tr th:only-of-type {\n",
       "        vertical-align: middle;\n",
       "    }\n",
       "\n",
       "    .dataframe tbody tr th {\n",
       "        vertical-align: top;\n",
       "    }\n",
       "\n",
       "    .dataframe thead th {\n",
       "        text-align: right;\n",
       "    }\n",
       "</style>\n",
       "<table border=\"1\" class=\"dataframe\">\n",
       "  <thead>\n",
       "    <tr style=\"text-align: right;\">\n",
       "      <th></th>\n",
       "      <th>model</th>\n",
       "      <th>score</th>\n",
       "      <th>best_params</th>\n",
       "    </tr>\n",
       "  </thead>\n",
       "  <tbody>\n",
       "    <tr>\n",
       "      <th>0</th>\n",
       "      <td>Linear Regression</td>\n",
       "      <td>0.956012</td>\n",
       "      <td>{}</td>\n",
       "    </tr>\n",
       "    <tr>\n",
       "      <th>1</th>\n",
       "      <td>Ridge Regression</td>\n",
       "      <td>0.956012</td>\n",
       "      <td>{'alpha': 1.0}</td>\n",
       "    </tr>\n",
       "    <tr>\n",
       "      <th>2</th>\n",
       "      <td>Lasso Regression</td>\n",
       "      <td>0.952367</td>\n",
       "      <td>{'alpha': 0.1}</td>\n",
       "    </tr>\n",
       "    <tr>\n",
       "      <th>3</th>\n",
       "      <td>Elastic Net Regression</td>\n",
       "      <td>0.951815</td>\n",
       "      <td>{'alpha': 0.1, 'l1_ratio': 0.8}</td>\n",
       "    </tr>\n",
       "    <tr>\n",
       "      <th>4</th>\n",
       "      <td>Polynomial Regression</td>\n",
       "      <td>0.956012</td>\n",
       "      <td>{}</td>\n",
       "    </tr>\n",
       "    <tr>\n",
       "      <th>5</th>\n",
       "      <td>Decision Tree Regression</td>\n",
       "      <td>0.989170</td>\n",
       "      <td>{'max_depth': None}</td>\n",
       "    </tr>\n",
       "    <tr>\n",
       "      <th>6</th>\n",
       "      <td>Random Forest Regression</td>\n",
       "      <td>0.993748</td>\n",
       "      <td>{'max_depth': None, 'n_estimators': 100}</td>\n",
       "    </tr>\n",
       "    <tr>\n",
       "      <th>7</th>\n",
       "      <td>Gradient Boosting Regression</td>\n",
       "      <td>0.981719</td>\n",
       "      <td>{'learning_rate': 0.1, 'n_estimators': 200}</td>\n",
       "    </tr>\n",
       "  </tbody>\n",
       "</table>\n",
       "</div>"
      ],
      "text/plain": [
       "                          model     score   \n",
       "0             Linear Regression  0.956012  \\\n",
       "1              Ridge Regression  0.956012   \n",
       "2              Lasso Regression  0.952367   \n",
       "3        Elastic Net Regression  0.951815   \n",
       "4         Polynomial Regression  0.956012   \n",
       "5      Decision Tree Regression  0.989170   \n",
       "6      Random Forest Regression  0.993748   \n",
       "7  Gradient Boosting Regression  0.981719   \n",
       "\n",
       "                                   best_params  \n",
       "0                                           {}  \n",
       "1                               {'alpha': 1.0}  \n",
       "2                               {'alpha': 0.1}  \n",
       "3              {'alpha': 0.1, 'l1_ratio': 0.8}  \n",
       "4                                           {}  \n",
       "5                          {'max_depth': None}  \n",
       "6     {'max_depth': None, 'n_estimators': 100}  \n",
       "7  {'learning_rate': 0.1, 'n_estimators': 200}  "
      ]
     },
     "execution_count": 50,
     "metadata": {},
     "output_type": "execute_result"
    }
   ],
   "source": [
    "df_scores = pd.DataFrame(scores, columns=['model','score','best_params'])\n",
    "df_scores"
   ]
  },
  {
   "cell_type": "markdown",
   "id": "4fb4d8b2",
   "metadata": {},
   "source": [
    "### TRAINING"
   ]
  },
  {
   "cell_type": "code",
   "execution_count": 51,
   "id": "81b59f75",
   "metadata": {},
   "outputs": [
    {
     "data": {
      "text/html": [
       "<style>#sk-container-id-1 {color: black;background-color: white;}#sk-container-id-1 pre{padding: 0;}#sk-container-id-1 div.sk-toggleable {background-color: white;}#sk-container-id-1 label.sk-toggleable__label {cursor: pointer;display: block;width: 100%;margin-bottom: 0;padding: 0.3em;box-sizing: border-box;text-align: center;}#sk-container-id-1 label.sk-toggleable__label-arrow:before {content: \"▸\";float: left;margin-right: 0.25em;color: #696969;}#sk-container-id-1 label.sk-toggleable__label-arrow:hover:before {color: black;}#sk-container-id-1 div.sk-estimator:hover label.sk-toggleable__label-arrow:before {color: black;}#sk-container-id-1 div.sk-toggleable__content {max-height: 0;max-width: 0;overflow: hidden;text-align: left;background-color: #f0f8ff;}#sk-container-id-1 div.sk-toggleable__content pre {margin: 0.2em;color: black;border-radius: 0.25em;background-color: #f0f8ff;}#sk-container-id-1 input.sk-toggleable__control:checked~div.sk-toggleable__content {max-height: 200px;max-width: 100%;overflow: auto;}#sk-container-id-1 input.sk-toggleable__control:checked~label.sk-toggleable__label-arrow:before {content: \"▾\";}#sk-container-id-1 div.sk-estimator input.sk-toggleable__control:checked~label.sk-toggleable__label {background-color: #d4ebff;}#sk-container-id-1 div.sk-label input.sk-toggleable__control:checked~label.sk-toggleable__label {background-color: #d4ebff;}#sk-container-id-1 input.sk-hidden--visually {border: 0;clip: rect(1px 1px 1px 1px);clip: rect(1px, 1px, 1px, 1px);height: 1px;margin: -1px;overflow: hidden;padding: 0;position: absolute;width: 1px;}#sk-container-id-1 div.sk-estimator {font-family: monospace;background-color: #f0f8ff;border: 1px dotted black;border-radius: 0.25em;box-sizing: border-box;margin-bottom: 0.5em;}#sk-container-id-1 div.sk-estimator:hover {background-color: #d4ebff;}#sk-container-id-1 div.sk-parallel-item::after {content: \"\";width: 100%;border-bottom: 1px solid gray;flex-grow: 1;}#sk-container-id-1 div.sk-label:hover label.sk-toggleable__label {background-color: #d4ebff;}#sk-container-id-1 div.sk-serial::before {content: \"\";position: absolute;border-left: 1px solid gray;box-sizing: border-box;top: 0;bottom: 0;left: 50%;z-index: 0;}#sk-container-id-1 div.sk-serial {display: flex;flex-direction: column;align-items: center;background-color: white;padding-right: 0.2em;padding-left: 0.2em;position: relative;}#sk-container-id-1 div.sk-item {position: relative;z-index: 1;}#sk-container-id-1 div.sk-parallel {display: flex;align-items: stretch;justify-content: center;background-color: white;position: relative;}#sk-container-id-1 div.sk-item::before, #sk-container-id-1 div.sk-parallel-item::before {content: \"\";position: absolute;border-left: 1px solid gray;box-sizing: border-box;top: 0;bottom: 0;left: 50%;z-index: -1;}#sk-container-id-1 div.sk-parallel-item {display: flex;flex-direction: column;z-index: 1;position: relative;background-color: white;}#sk-container-id-1 div.sk-parallel-item:first-child::after {align-self: flex-end;width: 50%;}#sk-container-id-1 div.sk-parallel-item:last-child::after {align-self: flex-start;width: 50%;}#sk-container-id-1 div.sk-parallel-item:only-child::after {width: 0;}#sk-container-id-1 div.sk-dashed-wrapped {border: 1px dashed gray;margin: 0 0.4em 0.5em 0.4em;box-sizing: border-box;padding-bottom: 0.4em;background-color: white;}#sk-container-id-1 div.sk-label label {font-family: monospace;font-weight: bold;display: inline-block;line-height: 1.2em;}#sk-container-id-1 div.sk-label-container {text-align: center;}#sk-container-id-1 div.sk-container {/* jupyter's `normalize.less` sets `[hidden] { display: none; }` but bootstrap.min.css set `[hidden] { display: none !important; }` so we also need the `!important` here to be able to override the default hidden behavior on the sphinx rendered scikit-learn.org. See: https://github.com/scikit-learn/scikit-learn/issues/21755 */display: inline-block !important;position: relative;}#sk-container-id-1 div.sk-text-repr-fallback {display: none;}</style><div id=\"sk-container-id-1\" class=\"sk-top-container\"><div class=\"sk-text-repr-fallback\"><pre>RandomForestRegressor(n_estimators=200)</pre><b>In a Jupyter environment, please rerun this cell to show the HTML representation or trust the notebook. <br />On GitHub, the HTML representation is unable to render, please try loading this page with nbviewer.org.</b></div><div class=\"sk-container\" hidden><div class=\"sk-item\"><div class=\"sk-estimator sk-toggleable\"><input class=\"sk-toggleable__control sk-hidden--visually\" id=\"sk-estimator-id-1\" type=\"checkbox\" checked><label for=\"sk-estimator-id-1\" class=\"sk-toggleable__label sk-toggleable__label-arrow\">RandomForestRegressor</label><div class=\"sk-toggleable__content\"><pre>RandomForestRegressor(n_estimators=200)</pre></div></div></div></div></div>"
      ],
      "text/plain": [
       "RandomForestRegressor(n_estimators=200)"
      ]
     },
     "execution_count": 51,
     "metadata": {},
     "output_type": "execute_result"
    }
   ],
   "source": [
    "model = RandomForestRegressor(n_estimators=200)\n",
    "model.fit(X_train_sc, y_train)"
   ]
  },
  {
   "cell_type": "code",
   "execution_count": 52,
   "id": "914d1c89",
   "metadata": {},
   "outputs": [],
   "source": [
    "y_pred = model.predict(X_test_sc)"
   ]
  },
  {
   "cell_type": "code",
   "execution_count": 53,
   "id": "45e4f567",
   "metadata": {},
   "outputs": [
    {
     "data": {
      "text/plain": [
       "2798    2.071537\n",
       "6132    1.273044\n",
       "5239    7.854589\n",
       "4775    4.029900\n",
       "4986    1.317210\n",
       "Name: Mental fitness, dtype: float64"
      ]
     },
     "execution_count": 53,
     "metadata": {},
     "output_type": "execute_result"
    }
   ],
   "source": [
    "y_test[:5]"
   ]
  },
  {
   "cell_type": "code",
   "execution_count": 54,
   "id": "25aba010",
   "metadata": {},
   "outputs": [
    {
     "data": {
      "text/plain": [
       "array([2.12508222, 1.30304965, 7.84316199, 4.0251111 , 1.30801107])"
      ]
     },
     "execution_count": 54,
     "metadata": {},
     "output_type": "execute_result"
    }
   ],
   "source": [
    "y_pred[:5]"
   ]
  },
  {
   "cell_type": "markdown",
   "id": "543cc1f9",
   "metadata": {},
   "source": [
    "### MODEL EVALUATION"
   ]
  },
  {
   "cell_type": "code",
   "execution_count": 55,
   "id": "502d4502",
   "metadata": {},
   "outputs": [],
   "source": [
    "from sklearn.metrics import mean_squared_error, mean_absolute_error, r2_score"
   ]
  },
  {
   "cell_type": "code",
   "execution_count": 56,
   "id": "709ef1eb",
   "metadata": {},
   "outputs": [
    {
     "name": "stdout",
     "output_type": "stream",
     "text": [
      "Mean Squared Error (MSE): 0.02199309553666725\n",
      "Root Mean Squared Error (RMSE): 0.14830069297433254\n",
      "Mean Absolute Error (MAE): 0.08041432008068283\n",
      "R-squared (R2) Score: 0.996108072853627\n"
     ]
    }
   ],
   "source": [
    "# Mean Squared Error (MSE)\n",
    "mse = mean_squared_error(y_test, y_pred)\n",
    "\n",
    "# Root Mean Squared Error (RMSE)\n",
    "rmse = mean_squared_error(y_test, y_pred, squared=False)\n",
    "\n",
    "# Mean Absolute Error (MAE)\n",
    "mae = mean_absolute_error(y_test, y_pred)\n",
    "\n",
    "# R-squared (R2) Score\n",
    "r2 = r2_score(y_test, y_pred)\n",
    "\n",
    "# Print the metrics\n",
    "print(f\"Mean Squared Error (MSE): {mse}\")\n",
    "print(f\"Root Mean Squared Error (RMSE): {rmse}\")\n",
    "print(f\"Mean Absolute Error (MAE): {mae}\")\n",
    "print(f\"R-squared (R2) Score: {r2}\")"
   ]
  },
  {
   "cell_type": "code",
   "execution_count": 57,
   "id": "e133d41b",
   "metadata": {},
   "outputs": [
    {
     "data": {
      "image/png": "[encoded data removed]",
      "text/plain": [
       "<Figure size 640x480 with 1 Axes>"
      ]
     },
     "metadata": {},
     "output_type": "display_data"
    }
   ],
   "source": [
    "plt.scatter(y_test, y_pred)\n",
    "plt.xlabel(\"True Values\")\n",
    "plt.ylabel(\"Predicted Values\")\n",
    "plt.title(\"Regression Model: True Values vs Predicted Values\")\n",
    "plt.show()"
   ]
  },
  {
   "cell_type": "markdown",
   "id": "69c9586f",
   "metadata": {},
   "source": [
    "### MODEL SAVING"
   ]
  },
  {
   "cell_type": "code",
   "execution_count": 59,
   "id": "185d9b86",
   "metadata": {},
   "outputs": [],
   "source": [
    "import pickle"
   ]
  },
  {
   "cell_type": "code",
   "execution_count": 60,
   "id": "68c8ef78",
   "metadata": {},
   "outputs": [],
   "source": [
    "# with open('model.h5', 'wb') as f:\n",
    "#     pickle.dump(model,f)"
   ]
  },
  {
   "cell_type": "code",
   "execution_count": 61,
   "id": "b1f420ba",
   "metadata": {},
   "outputs": [],
   "source": [
    "# with open('model.pkl', 'wb') as f:\n",
    "#     pickle.dump(model,f)"
   ]
  },
  {
   "cell_type": "code",
   "execution_count": 62,
   "id": "a05769e2",
   "metadata": {},
   "outputs": [],
   "source": [
    "with open('model.pkl', 'rb') as f:\n",
    "    model_loaded = pickle.load(f)"
   ]
  },
  {
   "cell_type": "code",
   "execution_count": 63,
   "id": "d354900c",
   "metadata": {},
   "outputs": [
    {
     "data": {
      "text/plain": [
       "Year                        2007.000000\n",
       "Schizophrenia(%)               0.301691\n",
       "Bipolar disorder(%)            0.577711\n",
       "Eating disorders(%)            0.124211\n",
       "Anxiety disorders(%)           3.972725\n",
       "Drug use disorders(%)          0.465725\n",
       "Depressive disorders(%)        2.622425\n",
       "Alcohol use disorders(%)       1.736143\n",
       "Entity_encoded                 5.276700\n",
       "Name: 47, dtype: float64"
      ]
     },
     "execution_count": 63,
     "metadata": {},
     "output_type": "execute_result"
    }
   ],
   "source": [
    "X_train.iloc[0]"
   ]
  },
  {
   "cell_type": "code",
   "execution_count": 64,
   "id": "ad333185",
   "metadata": {},
   "outputs": [
    {
     "data": {
      "text/plain": [
       "5.85413746815657"
      ]
     },
     "execution_count": 64,
     "metadata": {},
     "output_type": "execute_result"
    }
   ],
   "source": [
    "y_train.iloc[0]"
   ]
  },
  {
   "cell_type": "markdown",
   "id": "fe82b2a8",
   "metadata": {},
   "source": [
    "### SAVING FEATURE SCALER & ENCODED COUNTRY FOR FUTURE PROCESSING"
   ]
  },
  {
   "cell_type": "code",
   "execution_count": null,
   "id": "5c415485",
   "metadata": {},
   "outputs": [],
   "source": [
    "# with open('decoded_country.pkl', 'wb') as f:\n",
    "#     pickle.dump(decoded_country_map, f)"
   ]
  },
  {
   "cell_type": "code",
   "execution_count": null,
   "id": "ba8bcf6a",
   "metadata": {},
   "outputs": [],
   "source": [
    "# with open('scaling.pkl', 'wb') as f:\n",
    "#     pickle.dump(sc, f)"
   ]
  },
  {
   "cell_type": "markdown",
   "id": "055cac6c",
   "metadata": {},
   "source": [
    "### MODEL TESTING"
   ]
  },
  {
   "cell_type": "code",
   "execution_count": 65,
   "id": "33d515df",
   "metadata": {},
   "outputs": [],
   "source": [
    "ip = [2007, 3.01691157e-01, 5.77711225e-01, 1.24211420e-01,\n",
    "       3.97272478e+00, 4.65725485e-01, 2.62242482e+00, 1.73614324e+00,\n",
    "       'Albania']"
   ]
  },
  {
   "cell_type": "code",
   "execution_count": 66,
   "id": "6bfe9ca3",
   "metadata": {},
   "outputs": [
    {
     "data": {
      "text/html": [
       "<div>\n",
       "<style scoped>\n",
       "    .dataframe tbody tr th:only-of-type {\n",
       "        vertical-align: middle;\n",
       "    }\n",
       "\n",
       "    .dataframe tbody tr th {\n",
       "        vertical-align: top;\n",
       "    }\n",
       "\n",
       "    .dataframe thead th {\n",
       "        text-align: right;\n",
       "    }\n",
       "</style>\n",
       "<table border=\"1\" class=\"dataframe\">\n",
       "  <thead>\n",
       "    <tr style=\"text-align: right;\">\n",
       "      <th></th>\n",
       "      <th>Year</th>\n",
       "      <th>Schizophrenia(%)</th>\n",
       "      <th>Bipolar disorder(%)</th>\n",
       "      <th>Eating disorders(%)</th>\n",
       "      <th>Anxiety disorders(%)</th>\n",
       "      <th>Drug use disorders(%)</th>\n",
       "      <th>Depressive disorders(%)</th>\n",
       "      <th>Alcohol use disorders(%)</th>\n",
       "      <th>Entity_encoded</th>\n",
       "    </tr>\n",
       "  </thead>\n",
       "  <tbody>\n",
       "    <tr>\n",
       "      <th>0</th>\n",
       "      <td>2007</td>\n",
       "      <td>0.301691157</td>\n",
       "      <td>0.577711225</td>\n",
       "      <td>0.12421142</td>\n",
       "      <td>3.97272478</td>\n",
       "      <td>0.465725485</td>\n",
       "      <td>2.62242482</td>\n",
       "      <td>1.73614324</td>\n",
       "      <td>Albania</td>\n",
       "    </tr>\n",
       "  </tbody>\n",
       "</table>\n",
       "</div>"
      ],
      "text/plain": [
       "   Year Schizophrenia(%) Bipolar disorder(%) Eating disorders(%)   \n",
       "0  2007      0.301691157         0.577711225          0.12421142  \\\n",
       "\n",
       "  Anxiety disorders(%) Drug use disorders(%) Depressive disorders(%)   \n",
       "0           3.97272478           0.465725485              2.62242482  \\\n",
       "\n",
       "  Alcohol use disorders(%) Entity_encoded  \n",
       "0               1.73614324        Albania  "
      ]
     },
     "execution_count": 66,
     "metadata": {},
     "output_type": "execute_result"
    }
   ],
   "source": [
    "ip_df = pd.DataFrame(data=np.array([ip]), columns=X_train.columns)\n",
    "ip_df"
   ]
  },
  {
   "cell_type": "code",
   "execution_count": 90,
   "id": "111606e9",
   "metadata": {},
   "outputs": [],
   "source": [
    "country = ip_df['Entity_encoded'][0]"
   ]
  },
  {
   "cell_type": "code",
   "execution_count": 92,
   "id": "5760745d",
   "metadata": {},
   "outputs": [],
   "source": [
    "ip_df['Entity_encoded'] = decode[country]"
   ]
  },
  {
   "cell_type": "code",
   "execution_count": 78,
   "id": "cb3a8c47",
   "metadata": {},
   "outputs": [],
   "source": [
    "with open('decoded_country.pkl', 'rb') as f:\n",
    "    decode = pickle.load(f)"
   ]
  },
  {
   "cell_type": "code",
   "execution_count": 80,
   "id": "ad2444d8",
   "metadata": {},
   "outputs": [],
   "source": [
    "with open('scaling.pkl', 'rb') as f:\n",
    "    scaler = pickle.load(f)"
   ]
  },
  {
   "cell_type": "code",
   "execution_count": 96,
   "id": "5ce7d299",
   "metadata": {},
   "outputs": [],
   "source": [
    "ip_sc = sc.transform(ip_df)"
   ]
  },
  {
   "cell_type": "code",
   "execution_count": 97,
   "id": "4b62d334",
   "metadata": {},
   "outputs": [
    {
     "data": {
      "text/plain": [
       "array([[ 0.29314933,  0.49552821, -0.35280989, -0.53387805, -0.27681672,\n",
       "        -0.58777924, -1.38553336,  0.2211483 ,  0.22591014]])"
      ]
     },
     "execution_count": 97,
     "metadata": {},
     "output_type": "execute_result"
    }
   ],
   "source": [
    "ip_sc"
   ]
  },
  {
   "cell_type": "markdown",
   "id": "4032a622",
   "metadata": {},
   "source": [
    "### PREDICTION"
   ]
  },
  {
   "cell_type": "code",
   "execution_count": 98,
   "id": "f85c84c2",
   "metadata": {},
   "outputs": [
    {
     "data": {
      "text/plain": [
       "array([5.79953933])"
      ]
     },
     "execution_count": 98,
     "metadata": {},
     "output_type": "execute_result"
    }
   ],
   "source": [
    "op = model_loaded.predict(ip_sc)\n",
    "op"
   ]
  },
  {
   "cell_type": "markdown",
   "id": "891642fc",
   "metadata": {},
   "source": [
    "### RESULT"
   ]
  },
  {
   "cell_type": "code",
   "execution_count": 99,
   "id": "a6f2cbc6",
   "metadata": {},
   "outputs": [
    {
     "name": "stdout",
     "output_type": "stream",
     "text": [
      "Mental Fitness Category: Moderate\n",
      "Category Details: Your predicted mental fitness rate is moderate. Continue to pay attention to your mental well-being and consider engaging in activities that promote positive mental health. Explore mindfulness exercises, practice self-reflection, and seek support from loved ones or support groups. Consider consulting with a mental health professional if needed.\n"
     ]
    }
   ],
   "source": [
    "def categorize_mental_fitness(rate):\n",
    "    if rate <= 4:\n",
    "        return 'Low'\n",
    "    elif rate <= 9:\n",
    "        return 'Moderate'\n",
    "    else:\n",
    "        return 'High'\n",
    "\n",
    "def get_category_details(category):\n",
    "    if category == 'Low':\n",
    "        return \"Your predicted mental fitness rate is low. It's important to prioritize your mental well-being and seek professional help. Consider consulting with a mental health professional or therapist for guidance and support. Focus on self-care activities, engage in hobbies that bring you joy, and maintain a strong support network.\"\n",
    "    elif category == 'Moderate':\n",
    "        return \"Your predicted mental fitness rate is moderate. Continue to pay attention to your mental well-being and consider engaging in activities that promote positive mental health. Explore mindfulness exercises, practice self-reflection, and seek support from loved ones or support groups. Consider consulting with a mental health professional if needed.\"\n",
    "    else:\n",
    "        return \"Congratulations! Your predicted mental fitness rate is high. This indicates a positive mental well-being. Continue to prioritize your mental health by engaging in activities that promote well-being, maintaining healthy habits, and nurturing strong relationships. Remember to practice self-care and be mindful of any changes that may occur.\"\n",
    "\n",
    "# Example usage\n",
    "mental_fitness_rate = 11\n",
    "category = categorize_mental_fitness(op)\n",
    "details = get_category_details(category)\n",
    "\n",
    "print(f\"Mental Fitness Category: {category}\")\n",
    "print(f\"Category Details: {details}\")\n"
   ]
  },
  {
   "cell_type": "markdown",
   "id": "3408d162",
   "metadata": {},
   "source": [
    "### RECOMMENDATIONS"
   ]
  },
  {
   "cell_type": "code",
   "execution_count": 100,
   "id": "d6466f77",
   "metadata": {},
   "outputs": [
    {
     "name": "stdout",
     "output_type": "stream",
     "text": [
      "Recommended Activities:\n",
      "-  Mindful Sitting\n",
      "-  Loving-Kindness Meditation\n",
      "-  Mindful Eating\n",
      "-  Nature Observation\n",
      "-  Practice Gratitude\n",
      "-  Listen to Music\n",
      "-  Deep Breathing\n",
      "-  Visualization\n",
      "-  Yoga Class\n",
      "-  Dancing\n",
      "-  Write a gratitude letter to someone\n",
      "-  Create a gratitude collage\n",
      "-  Writing in a journal\n",
      "-  Playing a musical instrument\n",
      "-  Volunteer for a cause you care about\n",
      "-  Host a small gathering\n"
     ]
    }
   ],
   "source": [
    "def recommend_activities(predicted_mental_fitness, user_profile):\n",
    "    # More activity data with additional recommendations\n",
    "    activity_data = {\n",
    "        'low': {\n",
    "            'Meditation': ['Guided Meditation', 'Breathing Exercises'],\n",
    "            'Mindfulness Exercises': ['Body Scan', 'Walking Meditation'],\n",
    "            'Self-Care Routine': ['Take a Bath', 'Read a Book'],\n",
    "            'Relaxation Exercises': ['Progressive Muscle Relaxation', 'Yoga'],\n",
    "            'Physical Exercises': ['Light Stretching', 'Short Walks'],\n",
    "            'Gratitude Journaling': ['Write down three things youre grateful for', 'Reflect on positive experiences'],\n",
    "            'Creative Expression': ['Drawing', 'Coloring Book'],\n",
    "            'Social Activities': ['Call or meet a friend', 'Join a club or group'] },\n",
    "        'moderate': {\n",
    "            'Meditation': ['Mindful Sitting', 'Loving-Kindness Meditation'],\n",
    "            'Mindfulness Exercises': ['Mindful Eating', 'Nature Observation'],\n",
    "            'Self-Care Routine': ['Practice Gratitude', 'Listen to Music'],\n",
    "            'Relaxation Exercises': ['Deep Breathing', 'Visualization'],\n",
    "            'Physical Exercises': ['Yoga Class', 'Dancing'],\n",
    "            'Gratitude Journaling': ['Write a gratitude letter to someone', 'Create a gratitude collage'],\n",
    "            'Creative Expression': ['Writing in a journal', 'Playing a musical instrument'],\n",
    "            'Social Activities': ['Volunteer for a cause you care about', 'Host a small gathering'],\n",
    "        },\n",
    "        'high': {\n",
    "            'Meditation': ['Vipassana Meditation', 'Transcendental Meditation'],\n",
    "            'Mindfulness Exercises': ['Mindful Walking', 'Mindful Journaling'],\n",
    "            'Self-Care Routine': ['Connect with Friends', 'Practice a Hobby'],\n",
    "            'Relaxation Exercises': ['Tai Chi', 'Qi Gong'],\n",
    "            'Physical Exercises': ['Hiking in nature', 'Group fitness classes'],\n",
    "            'Gratitude Journaling': ['Practice daily affirmations', 'Mentor someone'],\n",
    "            'Creative Expression': ['Painting', 'Photography'],\n",
    "            'Social Activities': ['Organize a community event', 'Lead a workshop'],\n",
    "        }\n",
    "    }\n",
    "\n",
    "    # Determine the mental fitness rate category based on the predicted value\n",
    "    if predicted_mental_fitness < 4.0:\n",
    "        fitness_category = 'low'\n",
    "    elif 4.0 <= predicted_mental_fitness < 7.0:\n",
    "        fitness_category = 'moderate'\n",
    "    else:\n",
    "        fitness_category = 'high'\n",
    "\n",
    "    # Retrieve recommended activities based on the mental fitness rate category and user's profile\n",
    "    recommended_activities = []\n",
    "    for category, activities in activity_data[fitness_category].items():\n",
    "        if category in user_profile:  # Check if the user is interested in this category\n",
    "            recommended_activities.extend(activities)\n",
    "\n",
    "    return recommended_activities\n",
    "\n",
    "# Example usage:\n",
    "# Replace these values with your actual predicted_mental_fitness and user_profile data\n",
    "predicted_mental_fitness = 6.8\n",
    "user_profile = ['Meditation', 'Mindfulness Exercises', 'Self-Care Routine', 'Relaxation Exercises', \n",
    "                'Physical Exercises','Gratitude Journaling', \"Creative Expression\", 'Social Activities']\n",
    "\n",
    "recommendations = recommend_activities(op, user_profile)\n",
    "print(\"Recommended Activities:\")\n",
    "for activity in recommendations:\n",
    "    print(\"- \", activity)\n"
   ]
  },
  {
   "cell_type": "markdown",
   "id": "17b3c666",
   "metadata": {},
   "source": [
    "## THANK YOU"
   ]
  }
 ],
 "metadata": {
  "kernelspec": {
   "display_name": "dlcv",
   "language": "python",
   "name": "dlcv"
  },
  "language_info": {
   "codemirror_mode": {
    "name": "ipython",
    "version": 3
   },
   "file_extension": ".py",
   "mimetype": "text/x-python",
   "name": "python",
   "nbconvert_exporter": "python",
   "pygments_lexer": "ipython3",
   "version": "3.10.11"
  }
 },
 "nbformat": 4,
 "nbformat_minor": 5
}
